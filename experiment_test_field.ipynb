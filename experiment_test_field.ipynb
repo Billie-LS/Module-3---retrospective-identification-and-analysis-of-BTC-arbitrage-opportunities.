{
 "cells": [
  {
   "cell_type": "code",
   "execution_count": 1,
   "id": "bfee5dc6-3740-4b2c-8769-9f20a89f033e",
   "metadata": {},
   "outputs": [],
   "source": [
    "import pandas as pd\n",
    "from pandas import read_csv as rcsv\n",
    "from pandas import DataFrame as wdf\n",
    "import numpy as np\n",
    "\n",
    "from pathlib import Path\n",
    "\n",
    "%matplotlib inline"
   ]
  },
  {
   "cell_type": "code",
   "execution_count": null,
   "id": "80948da7-a74c-489c-9038-36d5d1391aca",
   "metadata": {},
   "outputs": [],
   "source": []
  },
  {
   "cell_type": "code",
   "execution_count": 1,
   "id": "a2178104-6548-4457-a9b9-5592477307e0",
   "metadata": {},
   "outputs": [
    {
     "name": "stdout",
     "output_type": "stream",
     "text": [
      "1.25\n"
     ]
    }
   ],
   "source": [
    "def profit_change(x1,y1,x2,y2):\n",
    "    x = (y2 - y1) / (x2 - x1)\n",
    "    return x\n",
    "\n",
    "print(profit_change(4,5,8,10))"
   ]
  },
  {
   "cell_type": "code",
   "execution_count": 2,
   "id": "b552baee-5fa4-4830-b7a6-e58e6dc26faf",
   "metadata": {},
   "outputs": [
    {
     "name": "stdout",
     "output_type": "stream",
     "text": [
      "1.25\n"
     ]
    }
   ],
   "source": [
    "from scipy.stats import linregress\n",
    "\n",
    "profit_change_early = [4, 8]\n",
    "time_change_early = [5, 10]\n",
    "slope, intercept, r_value, p_value, std_err = linregress(profit_change_early, time_change_early)\n",
    "print(slope)"
   ]
  },
  {
   "cell_type": "code",
   "execution_count": null,
   "id": "f7737c87-e4c6-4e6a-a725-ad6809dfebb3",
   "metadata": {},
   "outputs": [],
   "source": []
  },
  {
   "cell_type": "code",
   "execution_count": 3,
   "id": "2df7fd32-162d-4cc5-bca0-501bb3ee5a48",
   "metadata": {},
   "outputs": [
    {
     "ename": "NameError",
     "evalue": "name 'bitcoin_early' is not defined",
     "output_type": "error",
     "traceback": [
      "\u001b[0;31m---------------------------------------------------------------------------\u001b[0m",
      "\u001b[0;31mNameError\u001b[0m                                 Traceback (most recent call last)",
      "\u001b[0;32m/var/folders/t7/x7q1pbqj4ss8841vmphkd2v00000gn/T/ipykernel_68412/1482629943.py\u001b[0m in \u001b[0;36m<module>\u001b[0;34m\u001b[0m\n\u001b[1;32m      2\u001b[0m \u001b[0;34m\u001b[0m\u001b[0m\n\u001b[1;32m      3\u001b[0m \u001b[0mscaler\u001b[0m \u001b[0;34m=\u001b[0m \u001b[0mStandardScaler\u001b[0m\u001b[0;34m(\u001b[0m\u001b[0;34m)\u001b[0m\u001b[0;34m\u001b[0m\u001b[0;34m\u001b[0m\u001b[0m\n\u001b[0;32m----> 4\u001b[0;31m \u001b[0mbitcoin_early_scaled\u001b[0m \u001b[0;34m=\u001b[0m \u001b[0mscaler\u001b[0m\u001b[0;34m.\u001b[0m\u001b[0mfit_transform\u001b[0m\u001b[0;34m(\u001b[0m\u001b[0mbitcoin_early\u001b[0m\u001b[0;34m)\u001b[0m\u001b[0;34m\u001b[0m\u001b[0;34m\u001b[0m\u001b[0m\n\u001b[0m\u001b[1;32m      5\u001b[0m \u001b[0mbitcoin_middle_scaled\u001b[0m \u001b[0;34m=\u001b[0m \u001b[0mscaler\u001b[0m\u001b[0;34m.\u001b[0m\u001b[0mfit_transform\u001b[0m\u001b[0;34m(\u001b[0m\u001b[0mbitcoin_middle\u001b[0m\u001b[0;34m)\u001b[0m\u001b[0;34m\u001b[0m\u001b[0;34m\u001b[0m\u001b[0m\n",
      "\u001b[0;31mNameError\u001b[0m: name 'bitcoin_early' is not defined"
     ]
    }
   ],
   "source": [
    "from sklearn.preprocessing import StandardScaler\n",
    "\n",
    "scaler = StandardScaler()\n",
    "bitcoin_early_scaled = scaler.fit_transform(bitcoin_early)\n",
    "bitcoin_middle_scaled = scaler.fit_transform(bitcoin_middle)"
   ]
  },
  {
   "cell_type": "code",
   "execution_count": null,
   "id": "9f851d3c-4f79-4dcc-8de6-544ebd19c6b3",
   "metadata": {},
   "outputs": [],
   "source": []
  },
  {
   "cell_type": "code",
   "execution_count": null,
   "id": "0c2df93a-ac03-4a48-aa18-0a5c6c7e1f8b",
   "metadata": {},
   "outputs": [],
   "source": [
    "pd.concat([a_df, b_df], axis = 1)"
   ]
  },
  {
   "cell_type": "code",
   "execution_count": null,
   "id": "acc1f396-eeee-44b0-95e7-c198fadd4fa2",
   "metadata": {},
   "outputs": [],
   "source": [
    "pd.concat([cumulative_profit_early, cumulative_profit_middle, cumulative_profit_late], axis = 1)"
   ]
  },
  {
   "cell_type": "code",
   "execution_count": null,
   "id": "b6cc31b7-865d-496a-9b42-a38129d500e6",
   "metadata": {},
   "outputs": [],
   "source": [
    "profits_concat_scaled.plot(figsize=(10, 7), title='stuff Profits')"
   ]
  }
 ],
 "metadata": {
  "kernelspec": {
   "display_name": "Python (jupyterlab_dev)",
   "language": "python",
   "name": "jupyterlab_dev"
  },
  "language_info": {
   "codemirror_mode": {
    "name": "ipython",
    "version": 3
   },
   "file_extension": ".py",
   "mimetype": "text/x-python",
   "name": "python",
   "nbconvert_exporter": "python",
   "pygments_lexer": "ipython3",
   "version": "3.7.13"
  }
 },
 "nbformat": 4,
 "nbformat_minor": 5
}
